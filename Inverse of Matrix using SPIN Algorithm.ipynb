{
 "cells": [
  {
   "cell_type": "markdown",
   "metadata": {
    "colab_type": "text",
    "id": "ViLpIRmBj2x3"
   },
   "source": [
    "## Importing Libraries"
   ]
  },
  {
   "cell_type": "code",
   "execution_count": null,
   "metadata": {
    "colab": {},
    "colab_type": "code",
    "id": "hzIwez4Nj5iW"
   },
   "outputs": [],
   "source": [
    "# Python\n",
    "import pandas as pd\n",
    "import numpy as np\n",
    "import time\n",
    "import copy\n",
    "\n",
    "# Scipy\n",
    "from scipy import linalg\n",
    "\n",
    "# Pyspark\n",
    "from pyspark.mllib.linalg import Matrices\n",
    "from pyspark.mllib.linalg.distributed import BlockMatrix\n",
    "from pyspark.mllib.linalg.distributed import DenseMatrix"
   ]
  },
  {
   "cell_type": "markdown",
   "metadata": {
    "colab_type": "text",
    "id": "mwDlgwDDkcz9"
   },
   "source": [
    "## Creating Input"
   ]
  },
  {
   "cell_type": "markdown",
   "metadata": {
    "colab_type": "text",
    "id": "P1UY3mPTlAVo"
   },
   "source": [
    "### Reference\n",
    "https://spark.apache.org/docs/latest/mllib-data-types.html#distributed-matrix"
   ]
  },
  {
   "cell_type": "code",
   "execution_count": null,
   "metadata": {
    "colab": {},
    "colab_type": "code",
    "id": "-yDda0cYlIBG"
   },
   "outputs": [],
   "source": [
    "# Set the size of your input data\n",
    "size = 256"
   ]
  },
  {
   "cell_type": "code",
   "execution_count": null,
   "metadata": {
    "colab": {},
    "colab_type": "code",
    "id": "tHhplPQmlHu-"
   },
   "outputs": [],
   "source": [
    "# Set the datatype of your input\n",
    "data_type = 'float32'"
   ]
  },
  {
   "cell_type": "code",
   "execution_count": null,
   "metadata": {
    "colab": {},
    "colab_type": "code",
    "id": "YnC7XoQ3lH4L"
   },
   "outputs": [],
   "source": [
    "# Assuming numpy array as input\n",
    "start_time = time.time()\n",
    "input_arr = np.random.rand(size, size).astype(data_type) \n",
    "print(\"--- %s seconds ---\" % (time.time() - start_time))\n",
    "\n",
    "print(\"Shape of input array is: \" + str(input_arr.shape))"
   ]
  },
  {
   "cell_type": "code",
   "execution_count": null,
   "metadata": {
    "colab": {},
    "colab_type": "code",
    "id": "UJIDywyDlHlk"
   },
   "outputs": [],
   "source": [
    "# Check the size of input array\n",
    "from sys import getsizeof\n",
    "print(\"Size of input array in GB is: \" + str(getsizeof(input_arr)/1e9))"
   ]
  },
  {
   "cell_type": "markdown",
   "metadata": {
    "colab_type": "text",
    "id": "5hNtuIiCpc_R"
   },
   "source": [
    "### Inverse using Scipy"
   ]
  },
  {
   "cell_type": "code",
   "execution_count": null,
   "metadata": {
    "colab": {},
    "colab_type": "code",
    "id": "DtLlZNtslHRp"
   },
   "outputs": [],
   "source": [
    "# Assuming numpy array as input\n",
    "start_time = time.time()\n",
    "input_arr_scipy_inverse = linalg.inv(input_arr) \n",
    "print(\"--- %s seconds ---\" % (time.time() - start_time))\n",
    "\n",
    "print(\"Inverse using scipy is:\")\n",
    "print(input_arr_scipy_inverse)"
   ]
  },
  {
   "cell_type": "markdown",
   "metadata": {
    "colab_type": "text",
    "id": "Q7IGo7-jlY-x"
   },
   "source": [
    "### RDD of sub-matrix blocks"
   ]
  },
  {
   "cell_type": "code",
   "execution_count": null,
   "metadata": {
    "colab": {},
    "colab_type": "code",
    "id": "FlwrIWBFlG8T"
   },
   "outputs": [],
   "source": [
    "# Define block size\n",
    "block_size = 64"
   ]
  },
  {
   "cell_type": "code",
   "execution_count": null,
   "metadata": {
    "colab": {},
    "colab_type": "code",
    "id": "2YxvFxT2lGs-"
   },
   "outputs": [],
   "source": [
    "def makeBlocks(arr, nrows, ncols):\n",
    "    '''\n",
    "    Return an array of shape (n, nrows, ncols) where \n",
    "    n * nrows * ncols = arr.size\n",
    "\n",
    "    '''\n",
    "\n",
    "    h, w = arr.shape\n",
    "    assert h % nrows == 0, \"{} rows is not evenly divisible by {}\".format(h, nrows)\n",
    "    assert w % ncols == 0, \"{} cols is not evenly divisible by {}\".format(w, cols)\n",
    "\n",
    "    return (arr.reshape(h//nrows, nrows, -1, ncols)\n",
    "          .swapaxes(1, 2)\n",
    "          .reshape(-1, nrows, ncols))"
   ]
  },
  {
   "cell_type": "code",
   "execution_count": null,
   "metadata": {
    "colab": {},
    "colab_type": "code",
    "id": "625ZEe7wtARC"
   },
   "outputs": [],
   "source": [
    "block_arrays = makeBlocks(input_arr, block_size, block_size)\n",
    "print(\"Shape of Blocked Array is: {}\".format(block_arrays.shape))\n",
    "print(\"Blocked Array is: {}\".format(block_arrays))"
   ]
  },
  {
   "cell_type": "code",
   "execution_count": null,
   "metadata": {
    "colab": {},
    "colab_type": "code",
    "id": "G8c-bvHutRjJ"
   },
   "outputs": [],
   "source": [
    "block_arrays_list = []\n",
    "num_blocks = block_arrays.shape[0]\n",
    "num_rowIndex = input_arr.shape[0]//block_size\n",
    "for idx in range(num_blocks):\n",
    "    block  = ((idx//num_rowIndex, idx%num_rowIndex), Matrices.dense(block_size, block_size, block_arrays[idx].flatten(order='F')))\n",
    "    block_arrays_list.append(block)"
   ]
  },
  {
   "cell_type": "code",
   "execution_count": null,
   "metadata": {
    "colab": {},
    "colab_type": "code",
    "id": "Oz2uQoHYuyzx"
   },
   "outputs": [],
   "source": [
    "print(\"Blocked Array List is: {}\".format(block_arrays_list))"
   ]
  },
  {
   "cell_type": "code",
   "execution_count": null,
   "metadata": {
    "colab": {},
    "colab_type": "code",
    "id": "VBRlPC_Vuywi"
   },
   "outputs": [],
   "source": [
    "# Parallelize the Block Array List\n",
    "blocks = sc.parallelize(block_arrays_list)\n",
    "\n",
    "# Type will be .rdd\n",
    "print(\"Type of blocks is: {}\".format(type(blocks)))"
   ]
  },
  {
   "cell_type": "markdown",
   "metadata": {
    "colab_type": "text",
    "id": "k9kXrFXxv9Qj"
   },
   "source": [
    "### Create BlockMatrix "
   ]
  },
  {
   "cell_type": "code",
   "execution_count": null,
   "metadata": {
    "colab": {},
    "colab_type": "code",
    "id": "tHCjrfPCuypf"
   },
   "outputs": [],
   "source": [
    "# Assuming numpy array as input\n",
    "start_time = time.time()\n",
    "A = BlockMatrix(blocks, block_size, block_size) \n",
    "print(\"--- %s seconds ---\" % (time.time() - start_time))\n",
    "print(\"Created BlockMatrix from RDD of sub-matrix blocks\")"
   ]
  },
  {
   "cell_type": "code",
   "execution_count": null,
   "metadata": {
    "colab": {},
    "colab_type": "code",
    "id": "qW3O0PmPuyl6"
   },
   "outputs": [],
   "source": [
    "print(\"Number of rows of BlockMatrix: {}\".format(A.numRows()))\n",
    "print(\"Number of columns of BlockMatrix: {}\".format(A.numCols()))"
   ]
  },
  {
   "cell_type": "code",
   "execution_count": null,
   "metadata": {
    "colab": {},
    "colab_type": "code",
    "id": "taKteq2AuydM"
   },
   "outputs": [],
   "source": [
    "# Validate the BlockMatrix\n",
    "A.validate()"
   ]
  },
  {
   "cell_type": "code",
   "execution_count": null,
   "metadata": {
    "colab": {},
    "colab_type": "code",
    "id": "8DrBk0-rxP5e"
   },
   "outputs": [],
   "source": [
    "# Print the first element of BlockRDD\n",
    "print(\"First element of Block RDD is: {}\".format(A.blocks.first()))"
   ]
  },
  {
   "cell_type": "markdown",
   "metadata": {
    "colab_type": "text",
    "id": "HYqGCR_hx77F"
   },
   "source": [
    "## Inverse using SPIN Algorithm"
   ]
  },
  {
   "cell_type": "markdown",
   "metadata": {
    "colab_type": "text",
    "id": "SjBtia1N1Jj0"
   },
   "source": [
    "### MapToPair()"
   ]
  },
  {
   "cell_type": "code",
   "execution_count": null,
   "metadata": {
    "colab": {},
    "colab_type": "code",
    "id": "3BfcG7LnxPgd"
   },
   "outputs": [],
   "source": [
    "def MapToPair(block, size):\n",
    "    ri = block[0][0]\n",
    "    ci = block[0][1]\n",
    "\n",
    "    if(ri//size == 0) and (ci//size == 0):\n",
    "    tag = \"A11\"\n",
    "    elif(ri//size == 0) and (ci//size == 1):\n",
    "    tag = \"A12\"\n",
    "    elif(ri//size == 1) and (ci//size == 0):\n",
    "    tag = \"A21\"\n",
    "    else(ri//size == 1) and (ci//size == 1):\n",
    "    tag = \"A22\"\n",
    "\n",
    "    # Get the number of rows, number of columns and values to create a new block\n",
    "    numRows = block[1].numRows\n",
    "    numCols = block[1].numCols\n",
    "    matrixValues = block[1].values\n",
    "\n",
    "    # Row Index and Column Index of the new block\n",
    "    rowIndex = ri % size\n",
    "    colIndex = ci % size\n",
    "\n",
    "    newBlock = ((rowIndex, colIndex), Matrices.dense(numRows, numCols, matrixValues))\n",
    "\n",
    "    return (tag, newBlock)  "
   ]
  },
  {
   "cell_type": "markdown",
   "metadata": {
    "colab_type": "text",
    "id": "p5NOhBwMyADL"
   },
   "source": [
    "### breakMat()"
   ]
  },
  {
   "cell_type": "code",
   "execution_count": null,
   "metadata": {
    "colab": {},
    "colab_type": "code",
    "id": "rsDBLEkOxPKQ"
   },
   "outputs": [],
   "source": [
    "def breakMat(A, size):\n",
    "    ARDD = A.blocks\n",
    "    return ARDD.map(lambda x: MapToPair(x, size))"
   ]
  },
  {
   "cell_type": "markdown",
   "metadata": {
    "colab_type": "text",
    "id": "P0YdvTyz1P_b"
   },
   "source": [
    "### xy()"
   ]
  },
  {
   "cell_type": "code",
   "execution_count": null,
   "metadata": {
    "colab": {},
    "colab_type": "code",
    "id": "h5csivkIxPGt"
   },
   "outputs": [],
   "source": [
    "def function_xy(x, y, pairRDD, block_size):\n",
    "    tag = 'A' + x + y\n",
    "    filteredRDD = pairRDD.filter(lambda x: x[0] == tag)\n",
    "    blocks = filteredRDD.map(lambda x: x[1])\n",
    "    return BlockMatrix(blocks, block_size, block_size)"
   ]
  },
  {
   "cell_type": "markdown",
   "metadata": {
    "colab_type": "text",
    "id": "kR57LLjb1rNe"
   },
   "source": [
    "### scipy inverse()"
   ]
  },
  {
   "cell_type": "code",
   "execution_count": null,
   "metadata": {
    "colab": {},
    "colab_type": "code",
    "id": "6eAfyRp-xO8_"
   },
   "outputs": [],
   "source": [
    "def scipy_inverse(block):\n",
    "    # Get the Row Index and Column Index of the block\n",
    "    rowIndex = block[0][0]\n",
    "    colIndex = block[0][1]\n",
    "\n",
    "    # Get values to find the inverse\n",
    "    matrixValues = block[1].toArray()\n",
    "\n",
    "    # Find inverse using scipy\n",
    "    inverse_matrixValues = linalg.inv(matrixValues)\n",
    "\n",
    "    # Change the inverse matrix to column major order\n",
    "    inverse_matrixValues = inverse_matrixValues.flatten(order='F')\n",
    "\n",
    "    inverse_block = ((rowIndex, colIndex), Matrices.dense(block[1].numRows, block[1].numCols, inverse_matrixValues))\n",
    "\n",
    "    return inverse_block"
   ]
  },
  {
   "cell_type": "markdown",
   "metadata": {
    "colab_type": "text",
    "id": "yjPZ3-of2x_h"
   },
   "source": [
    "### multiply()"
   ]
  },
  {
   "cell_type": "code",
   "execution_count": null,
   "metadata": {
    "colab": {},
    "colab_type": "code",
    "id": "uLBYu_pz2w7i"
   },
   "outputs": [],
   "source": [
    "def multiply(mat1, mat2):\n",
    "    mat1_mat2 = mat1.multiply(mat2)\n",
    "    return mat1_mat2"
   ]
  },
  {
   "cell_type": "markdown",
   "metadata": {
    "colab_type": "text",
    "id": "wxMgOj9h_CKx"
   },
   "source": [
    "### subtract()"
   ]
  },
  {
   "cell_type": "code",
   "execution_count": null,
   "metadata": {
    "colab": {},
    "colab_type": "code",
    "id": "P_RYtKga2w26"
   },
   "outputs": [],
   "source": [
    "def subtract(mat1, mat2):\n",
    "    mat1_mat2 = mat1.subtract(mat2)\n",
    "    return mat1_mat2"
   ]
  },
  {
   "cell_type": "markdown",
   "metadata": {
    "colab_type": "text",
    "id": "1yQSPa45_N7x"
   },
   "source": [
    "### Scalar Multiplication"
   ]
  },
  {
   "cell_type": "code",
   "execution_count": null,
   "metadata": {
    "colab": {},
    "colab_type": "code",
    "id": "eFNHnyiA2wzl"
   },
   "outputs": [],
   "source": [
    "def scalarMulHelper(block, scalar):\n",
    "    # Get the RowIndex and the ColIndex of the block\n",
    "    rowIndex = block[0][0]\n",
    "    colIndex = block[0][1]\n",
    "\n",
    "    # Get values to multiply with a scalar\n",
    "    matrixValues = block[1].values\n",
    "    matrixValues = matrixValues*scalar\n",
    "\n",
    "    newBlock = ((rowIndex, colIndex), Matrices.dense(block[1].numRows, block[1].numCols, matrixValues))\n",
    "\n",
    "    return newBlock"
   ]
  },
  {
   "cell_type": "code",
   "execution_count": null,
   "metadata": {
    "colab": {},
    "colab_type": "code",
    "id": "FmXZfXxq_SPu"
   },
   "outputs": [],
   "source": [
    "def scalarMul(A, scalar, block_size):\n",
    "    ARDD = A.blocks\n",
    "    blocks = ARDD.map(lambda x: scalarMulHelper(x, scalar))\n",
    "    return BlockMatrix(blocks, block_size, block_size)"
   ]
  },
  {
   "cell_type": "markdown",
   "metadata": {
    "colab_type": "text",
    "id": "jmt3uMKCABvd"
   },
   "source": [
    "### arrange()"
   ]
  },
  {
   "cell_type": "code",
   "execution_count": null,
   "metadata": {
    "colab": {},
    "colab_type": "code",
    "id": "fkzW0Wuh_SNI"
   },
   "outputs": [],
   "source": [
    "def map_c12(block, size):\n",
    "    # Get the RowIndex and the ColIndex of the block\n",
    "    rowIndex = block[0][0]\n",
    "    colIndex = block[0][1]\n",
    "    colIndex = colIndex + size\n",
    "    return ((rowIndex, colIndex), Matrices.dense(block[1].numRows, block[1].numCols, block[1].values))\n",
    "\n",
    "    def map_c21(block, size):\n",
    "    # Get the RowIndex and the ColIndex of the block\n",
    "    rowIndex = block[0][0]\n",
    "    rowIndex = rowIndex + size\n",
    "    colIndex = block[0][1]\n",
    "    return ((rowIndex, colIndex), Matrices.dense(block[1].numRows, block[1].numCols, block[1].values))\n",
    "\n",
    "    def map_c22(block, size):\n",
    "    # Get the RowIndex and the ColIndex of the block\n",
    "    rowIndex = block[0][0]\n",
    "    rowIndex = rowIndex + size\n",
    "    colIndex = block[0][1]\n",
    "    colIndex = colIndex + size\n",
    "    return ((rowIndex, colIndex), Matrices.dense(block[1].numRows, block[1].numCols, block[1].values))"
   ]
  },
  {
   "cell_type": "code",
   "execution_count": null,
   "metadata": {
    "colab": {},
    "colab_type": "code",
    "id": "VUMW9Qdc_SIv"
   },
   "outputs": [],
   "source": [
    "def arrange(C11, C12, C21, C22, size, block_size):\n",
    "    C11RDD = C11.blocks\n",
    "    C12RDD = C12.blocks\n",
    "    C21RDD = C21.blocks\n",
    "    C22RDD = C22.blocks\n",
    "\n",
    "    C1 = C12RDD.map(lambda x: map_c12(x, size//blocksize))\n",
    "    C2 = C21RDD.map(lambda x: map_c21(x, size//blocksize))\n",
    "    C3 = C22RDD.map(lambda x: map_c22(x, size//blocksize))\n",
    "\n",
    "    unionRDD = C11RDD.union(C1.union(C2.union(C3)))\n",
    "\n",
    "    return BlockMatrix(unionRDD, block_size, block_size)"
   ]
  },
  {
   "cell_type": "markdown",
   "metadata": {
    "colab_type": "text",
    "id": "1ch4cfm9Cfcu"
   },
   "source": [
    "### inverse()"
   ]
  },
  {
   "cell_type": "code",
   "execution_count": null,
   "metadata": {
    "colab": {},
    "colab_type": "code",
    "id": "7Hko63Da_SEd"
   },
   "outputs": [],
   "source": [
    "def inverse(A, size, block_size):\n",
    "    n = size//block_size\n",
    "    if n == 1:\n",
    "        A_RDD = A.blocks\n",
    "        A_Inverse_Block = A_RDD.map(lambda x: scipy_inverse(x))\n",
    "        return BlockMatrix(A_Inverse_Block, block_size, block_size)\n",
    "    else:\n",
    "        size = size/2\n",
    "        pairRDD = breakMat(A, size//block_size)\n",
    "        A11 = function_xy(str(1), str(1), pairRDD, block_size)\n",
    "        A12 = function_xy(str(1), str(2), pairRDD, block_size)\n",
    "        A21 = function_xy(str(2), str(1), pairRDD, block_size)\n",
    "        A22 = function_xy(str(2), str(2), pairRDD, block_size)\n",
    "        one = inverse(A11, size, block_size)\n",
    "        two = multiply(A21, one)\n",
    "        three = multiply(one, A12)\n",
    "        four = multiply(A21, three)\n",
    "        five = subtract(four, A22)\n",
    "        six = inverse(five, size, block_size)\n",
    "        C12 = multiply(three, six)\n",
    "        C21 = multiply(six, two)\n",
    "        seven = multiply(three, C21)\n",
    "        C11 = subtract(one, seven)\n",
    "        C22 = scalarMul(six, -1, block_size)\n",
    "        C = arrange(C11, C12, C21, C22, size, block_size)\n",
    "        return C"
   ]
  },
  {
   "cell_type": "code",
   "execution_count": null,
   "metadata": {
    "colab": {},
    "colab_type": "code",
    "id": "K-BDwW39_R_Q"
   },
   "outputs": [],
   "source": [
    "start_time = time.time()\n",
    "A_inv = inverse(A, size, block_size)\n",
    "print(\"--- %s seconds ---\" % (time.time() - start_time))"
   ]
  },
  {
   "cell_type": "markdown",
   "metadata": {
    "colab_type": "text",
    "id": "JJ7ChS1FEN8f"
   },
   "source": [
    "## Test SPIN implementation"
   ]
  },
  {
   "cell_type": "code",
   "execution_count": null,
   "metadata": {
    "colab": {},
    "colab_type": "code",
    "id": "v8vyPtas_RvO"
   },
   "outputs": [],
   "source": [
    "inverse_scipy = np.around(input_arr_scipy_inverse, decimals = 6)\n",
    "inverse_spin = np.around(A_inv.toLocalMatrix().toArray(), decimals = 6)\n",
    "print(np.allclose(inverse_scipy, inverse_spin, atoi=1e-6))"
   ]
  }
 ],
 "metadata": {
  "colab": {
   "collapsed_sections": [],
   "name": "Matrix_Inverse_SPIN.ipynb",
   "provenance": []
  },
  "kernelspec": {
   "display_name": "Python 3",
   "language": "python",
   "name": "python3"
  },
  "language_info": {
   "codemirror_mode": {
    "name": "ipython",
    "version": 3
   },
   "file_extension": ".py",
   "mimetype": "text/x-python",
   "name": "python",
   "nbconvert_exporter": "python",
   "pygments_lexer": "ipython3",
   "version": "3.7.7"
  },
  "toc": {
   "base_numbering": 1,
   "nav_menu": {},
   "number_sections": true,
   "sideBar": true,
   "skip_h1_title": false,
   "title_cell": "Table of Contents",
   "title_sidebar": "Contents",
   "toc_cell": false,
   "toc_position": {},
   "toc_section_display": true,
   "toc_window_display": true
  }
 },
 "nbformat": 4,
 "nbformat_minor": 1
}
